{
  "nbformat": 4,
  "nbformat_minor": 0,
  "metadata": {
    "colab": {
      "provenance": [],
      "authorship_tag": "ABX9TyOdVwlG1faD5d28rNBGYNMu",
      "include_colab_link": true
    },
    "kernelspec": {
      "name": "python3",
      "display_name": "Python 3"
    },
    "language_info": {
      "name": "python"
    }
  },
  "cells": [
    {
      "cell_type": "markdown",
      "metadata": {
        "id": "view-in-github",
        "colab_type": "text"
      },
      "source": [
        "<a href=\"https://colab.research.google.com/github/nini931214/nini/blob/main/0508.ipynb\" target=\"_parent\"><img src=\"https://colab.research.google.com/assets/colab-badge.svg\" alt=\"Open In Colab\"/></a>"
      ]
    },
    {
      "cell_type": "code",
      "execution_count": 17,
      "metadata": {
        "colab": {
          "base_uri": "https://localhost:8080/"
        },
        "id": "QwNVXYpSbV-n",
        "outputId": "066ee61e-a31a-46e1-d76c-b85325db1383"
      },
      "outputs": [
        {
          "output_type": "stream",
          "name": "stdout",
          "text": [
            "35\n",
            "35  體溫正常\n"
          ]
        }
      ],
      "source": [
        "tem=int(input())\n",
        "if(tem >=34 and tem <=37.5):\n",
        "  if(tem>=37.5 ):\n",
        "    print('{}  體溫過高'.format(tem))\n",
        "  elif(tem==37 or tem>=37 ):\n",
        "    print('{}  體溫略高'.format(tem))\n",
        "  elif(tem==34 or tem>=34 ):\n",
        "    print('{}  體溫正常'.format(tem))\n",
        "  else:\n",
        "    print('{}  體溫異常，請重新測'.format(tem))\n",
        "else:\n",
        "  print('Input Error')"
      ]
    },
    {
      "cell_type": "code",
      "source": [
        "grades=int(input())\n",
        "if(grades >=0 and month <=100):\n",
        "  if(grades>=90 ):\n",
        "    print('{} A'.format(grades))\n",
        "  elif(grades==80 or grades>=80 ):\n",
        "    print('{} B'.format(grades))\n",
        "  elif(grades==70 or grades>=70 ):\n",
        "    print('{} c'.format(grades))\n",
        "  elif(grades==60 or grades>=60 ):\n",
        "    print('{} c'.format(grades))\n",
        "  else:\n",
        "    print('{}E'.format(grades))\n",
        "else:\n",
        "  print('Input Error')"
      ],
      "metadata": {
        "colab": {
          "base_uri": "https://localhost:8080/"
        },
        "id": "BrbP4Ff4f_f-",
        "outputId": "9459a212-48f8-4c6f-c843-56597d9e6cb0"
      },
      "execution_count": 15,
      "outputs": [
        {
          "output_type": "stream",
          "name": "stdout",
          "text": [
            "78\n",
            "78 c\n"
          ]
        }
      ]
    },
    {
      "cell_type": "code",
      "source": [
        "month=int(input())\n",
        "if(month >=1 and month <=12):\n",
        "  if(month==3 or month==4 or month==5):\n",
        "    print('{} is spring'.format(month))\n",
        "  elif(month==6 or month==7 or month==8):\n",
        "    print('{} is summer'.format(month))\n",
        "  elif(month==9 or month==10 or month==11):\n",
        "    print('{} is autumn'.format(month))\n",
        "  else:\n",
        "    print('{}is winter'.format(month))\n",
        "else:\n",
        "  print('Input Error')"
      ],
      "metadata": {
        "colab": {
          "base_uri": "https://localhost:8080/"
        },
        "id": "TowRfAX_f_sN",
        "outputId": "5770c68b-e062-4d7c-f9ab-8599b8bff895"
      },
      "execution_count": 14,
      "outputs": [
        {
          "output_type": "stream",
          "name": "stdout",
          "text": [
            "12\n",
            "12is winter\n"
          ]
        }
      ]
    }
  ]
}